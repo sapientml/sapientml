{
 "cells": [
  {
   "cell_type": "markdown",
   "metadata": {},
   "source": [
    "# Hotel Cancellation: Prediction of Hotel Reservation Cancellations"
   ]
  },
  {
   "cell_type": "markdown",
   "metadata": {},
   "source": [
    "## 1. Install SapientML"
   ]
  },
  {
   "cell_type": "code",
   "execution_count": null,
   "metadata": {},
   "outputs": [],
   "source": [
    "!pip install -U sapientml"
   ]
  },
  {
   "cell_type": "markdown",
   "metadata": {},
   "source": [
    "## 2. Import libraries"
   ]
  },
  {
   "cell_type": "code",
   "execution_count": null,
   "metadata": {},
   "outputs": [],
   "source": [
    "import pandas as pd\n",
    "from sapientml import SapientML\n",
    "from sapientml.util.logging import setup_logger\n",
    "from sklearn.metrics import f1_score"
   ]
  },
  {
   "cell_type": "markdown",
   "metadata": {},
   "source": [
    "## 3. Load Hotel Cancellation Dataset\n",
    "\n",
    "Hotel Cancellation Dataset includes information about hotel reservations, including details about the reservation holders and booking information. This tutorial predict `Status` (`S`: Stay, `C`: Cancellation) indicating whether the reservation was ultimately stayed or canceled."
   ]
  },
  {
   "cell_type": "code",
   "execution_count": null,
   "metadata": {},
   "outputs": [],
   "source": [
    "\n",
    "train_data = pd.read_csv(\"https://github.com/sapientml/sapientml/files/12617021/train_hotelcancel-prediction.csv\")\n",
    "test_data = pd.read_csv(\"https://github.com/sapientml/sapientml/files/12617033/test_hotelcancel-prediction.csv\")\n",
    "train_data"
   ]
  },
  {
   "cell_type": "markdown",
   "metadata": {},
   "source": [
    "## 4. Split the dataset into train and test data"
   ]
  },
  {
   "cell_type": "code",
   "execution_count": null,
   "metadata": {},
   "outputs": [],
   "source": [
    "y_true = test_data[\"Status\"].reset_index(drop=True)\n",
    "test_data.drop([\"Status\"], axis=1, inplace=True)"
   ]
  },
  {
   "cell_type": "markdown",
   "metadata": {},
   "source": [
    "## 5. Generate code\n",
    "\n",
    "At first, instantiate SapientML object with the target columns of the ML task. \n",
    "In the example, `Status` is the target column, and you will assign it as a list to the first argument of the constructor. \n",
    "\n",
    "Second, call `cls.fit()` to generate code for training a ML model and prediction by:\n",
    "1. selecting preprocessors and the most plausible top-3 models, \n",
    "2. composing their code snippet as the top-3 best pipelines, and\n",
    "3. evaluating the pipelines to choose the best one."
   ]
  },
  {
   "cell_type": "code",
   "execution_count": null,
   "metadata": {},
   "outputs": [],
   "source": [
    "cls = SapientML([\"Status\"])\n",
    "setup_logger().handlers.clear() # to prevent duplication of logging\n",
    "\n",
    "cls.fit(train_data, ignore_columns=[\"No.\"])"
   ]
  },
  {
   "cell_type": "markdown",
   "metadata": {},
   "source": [
    "## 6. Prediction\n",
    "\n",
    "Third, call `cls.predict()` to conduct the prediction by test data."
   ]
  },
  {
   "cell_type": "code",
   "execution_count": null,
   "metadata": {},
   "outputs": [],
   "source": [
    "y_pred = cls.predict(test_data)\n",
    "y_pred = y_pred[\"Status\"].rename(\"Status_pred\")\n",
    "\n",
    "pd.concat([y_pred, y_true], axis=1)"
   ]
  },
  {
   "cell_type": "markdown",
   "metadata": {},
   "source": [
    "## 7. Show F1 score\n",
    "\n",
    "Since this is the classification task, you can evaluate the model by F1 score."
   ]
  },
  {
   "cell_type": "code",
   "execution_count": null,
   "metadata": {},
   "outputs": [],
   "source": [
    "print(f\"F1 score: {f1_score(y_true, y_pred, pos_label='C')}\")"
   ]
  },
  {
   "cell_type": "markdown",
   "metadata": {},
   "source": [
    "## 8. Get the generated code\n",
    "\n",
    "The generated code is contained in `cls.model.files`, and you can get a specific code by putting the following filename as a key:\n",
    "- `final_script.py`: the best pipeline code for validation\n",
    "- `final_predict.py`: code for prediction\n",
    "- `final_train.py`: code for training a model\n",
    "\n",
    "For further information, please see https://sapientml.readthedocs.io/en/latest/user/usage.html#generated-source-code"
   ]
  },
  {
   "cell_type": "code",
   "execution_count": null,
   "metadata": {},
   "outputs": [],
   "source": [
    "print(cls.model.files[\"final_script.py\"].decode(\"utf-8\"))"
   ]
  }
 ],
 "metadata": {
  "language_info": {
   "name": "python"
  },
  "orig_nbformat": 4
 },
 "nbformat": 4,
 "nbformat_minor": 2
}
